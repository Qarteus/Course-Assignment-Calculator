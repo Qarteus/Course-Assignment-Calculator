{
 "cells": [
  {
   "metadata": {
    "collapsed": true,
    "ExecuteTime": {
     "end_time": "2025-05-04T13:25:51.015683Z",
     "start_time": "2025-05-04T13:25:50.958674Z"
    }
   },
   "cell_type": "code",
   "source": [
    "# Samuel Afolayan\n",
    "# Thurday, 04 May, 2025\n",
    "\n",
    "import ipywidgets as widgets\n",
    "from IPython.display import display, clear_output\n",
    "\n",
    "operation = widgets.Dropdown(\n",
    "    options=['Addition', 'Subtraction', 'Mod', 'Multiplication', 'Division'],\n",
    "    description='Operation:'\n",
    ")\n",
    "\n",
    "# Define input fields\n",
    "numbers = widgets.Text(\n",
    "    value='',\n",
    "    description='Numbers:',\n",
    "    placeholder='Enter numbers separated by commas'\n",
    ")\n",
    "\n",
    "# Define output display\n",
    "output = widgets.Output()\n",
    "\n",
    "# Define a calculate button\n",
    "calc_button = widgets.Button(\n",
    "    description='Calculate',\n",
    "    button_style='success'\n",
    ")\n",
    "\n",
    "# Addition function\n",
    "# def addition():\n",
    "#     print(\"Addition\")\n",
    "#     n = float(input(\"Enter the number: \"))\n",
    "#     t = 0\n",
    "#     ans = 0\n",
    "#     while n !=0:\n",
    "#         ans = ans + n\n",
    "#         t += 1\n",
    "#         n = float(input(\"Enter another number: (0 to calculate: \"))\n",
    "#     return [ans]\n",
    "#\n",
    "# Subtraction function\n",
    "# def subtraction():\n",
    "#     print(\"Subraction\")\n",
    "#     n = float(input(\"Enter the number: \"))\n",
    "#     t = 0\n",
    "#     ans = 0\n",
    "#     while n !=0:\n",
    "#         ans = ans - n\n",
    "#         t += 1\n",
    "#         n = float(input(\"Enter another number: (0 to calculate: \"))\n",
    "#     return [ans]\n",
    "#\n",
    "# Multiplication function\n",
    "# def Multiplication():\n",
    "#     print(\"Multiplication\")\n",
    "#     n = float(input(\"Enter the number: \"))\n",
    "#     t = 0\n",
    "#     ans = 0\n",
    "#     while n !=0:\n",
    "#         ans = ans * n\n",
    "#         t += 1\n",
    "#         n = float(input(\"Enter another number: (0 to calculate: \"))\n",
    "#     return [ans]\n",
    "#\n",
    "# Mod function\n",
    "# def Mod():\n",
    "#     print(\"Mod\")\n",
    "#     n = float(input(\"Enter the number: \"))\n",
    "#     t = 0\n",
    "#     ans = 0\n",
    "#     while n !=0:\n",
    "#         ans = ans % n\n",
    "#         t += 1\n",
    "#         n = float(input(\"Enter another number: (0 to calculate: \"))\n",
    "#     return [ans]\n",
    "#\n",
    "# Division function\n",
    "# def Division():\n",
    "#     print(\"Division\")\n",
    "#     n = float(input(\"Enter the number: \"))\n",
    "#     t = 0\n",
    "#     ans = 0\n",
    "#     while n !=0:\n",
    "#         ans = ans / n\n",
    "#         t += 1\n",
    "#         n = float(input(\"Enter another number: (0 to calculate: \"))\n",
    "#     return [ans]\n",
    "\n",
    "# Calculation function\n",
    "def calculate_handler(b):\n",
    "    with output:\n",
    "        clear_output()\n",
    "        try:\n",
    "            nums = list(map(float, numbers.value.split(',')))\n",
    "            if not nums:\n",
    "                print(\"Please enter some numbers.\")\n",
    "                return\n",
    "            if operation.value == 'Addition':\n",
    "                result = sum(nums)\n",
    "            elif operation.value == 'Subtraction':\n",
    "                result = nums[0] - sum(nums[1:])\n",
    "            elif operation.value == 'Multiplication':\n",
    "                result = 1\n",
    "                for n in nums:\n",
    "                    result *= n\n",
    "            elif operation.value == 'Mod':\n",
    "                result = nums[0] % nums[1]\n",
    "                for n in nums:\n",
    "                    result %= n\n",
    "            elif operation.value == 'Division':\n",
    "                result = nums[0]\n",
    "                for n in nums[1:]:\n",
    "                    if n == 0:\n",
    "                        print(\"Error: Division by zero.\")\n",
    "                        return\n",
    "                    result /= n\n",
    "            print(f\"Result: {result}\")\n",
    "        except ValueError:\n",
    "            print(\"Please enter valid numbes separated by commas.\")\n",
    "\n",
    "# Connect button to handler\n",
    "calc_button.on_click(calculate_handler)\n",
    "\n",
    "# Display widgets\n",
    "display(operation, numbers, calc_button, output)"
   ],
   "id": "bd6b25b71b175761",
   "outputs": [
    {
     "data": {
      "text/plain": [
       "Dropdown(description='Operation:', options=('Addition', 'Subtraction', 'Mod', 'Multiplication', 'Division'), v…"
      ],
      "application/vnd.jupyter.widget-view+json": {
       "version_major": 2,
       "version_minor": 0,
       "model_id": "e983979994004b579e8fb89a7388a103"
      }
     },
     "metadata": {},
     "output_type": "display_data"
    },
    {
     "data": {
      "text/plain": [
       "Text(value='', description='Numbers:', placeholder='Enter numbers separated by commas')"
      ],
      "application/vnd.jupyter.widget-view+json": {
       "version_major": 2,
       "version_minor": 0,
       "model_id": "facf6127bdbb420183ecd66792083a7f"
      }
     },
     "metadata": {},
     "output_type": "display_data"
    },
    {
     "data": {
      "text/plain": [
       "Button(button_style='success', description='Calculate', style=ButtonStyle())"
      ],
      "application/vnd.jupyter.widget-view+json": {
       "version_major": 2,
       "version_minor": 0,
       "model_id": "507c680863274028a9a1e8f295d8ba30"
      }
     },
     "metadata": {},
     "output_type": "display_data"
    },
    {
     "data": {
      "text/plain": [
       "Output()"
      ],
      "application/vnd.jupyter.widget-view+json": {
       "version_major": 2,
       "version_minor": 0,
       "model_id": "c7f12e109e6e4fc993b6a9a24e0a856e"
      }
     },
     "metadata": {},
     "output_type": "display_data"
    }
   ],
   "execution_count": 15
  }
 ],
 "metadata": {
  "kernelspec": {
   "display_name": "Python 3",
   "language": "python",
   "name": "python3"
  },
  "language_info": {
   "codemirror_mode": {
    "name": "ipython",
    "version": 2
   },
   "file_extension": ".py",
   "mimetype": "text/x-python",
   "name": "python",
   "nbconvert_exporter": "python",
   "pygments_lexer": "ipython2",
   "version": "2.7.6"
  }
 },
 "nbformat": 4,
 "nbformat_minor": 5
}
